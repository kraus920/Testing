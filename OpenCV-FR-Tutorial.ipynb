{
 "cells": [
  {
   "cell_type": "code",
   "execution_count": 1,
   "metadata": {},
   "outputs": [],
   "source": [
    "import numpy as np\n",
    "import cv2\n",
    "import pickle"
   ]
  },
  {
   "cell_type": "code",
   "execution_count": 2,
   "metadata": {},
   "outputs": [],
   "source": [
    "face_cascade = cv2.CascadeClassifier('Cascades/data/haarcascade_frontalface_alt2.xml')\n",
    "eye_cascade = cv2.CascadeClassifier('Cascades/data/haarcascade_eye.xml')\n",
    "smile_cascade = cv2.CascadeClassifier('Cascades/data/haarcascade_smile.xml')"
   ]
  },
  {
   "cell_type": "code",
   "execution_count": 3,
   "metadata": {},
   "outputs": [],
   "source": [
    "recognizer = cv2.face.LBPHFaceRecognizer_create()\n",
    "recognizer.read(\"Trainer.yml\")"
   ]
  },
  {
   "cell_type": "code",
   "execution_count": 4,
   "metadata": {},
   "outputs": [],
   "source": [
    "labels = {\"person_name\": 1}"
   ]
  },
  {
   "cell_type": "code",
   "execution_count": 5,
   "metadata": {},
   "outputs": [],
   "source": [
    "with open(\"labels.pickle\", 'rb') as f:\n",
    "    og_labels = pickle.load(f)\n",
    "    labels = {v:k for k, v in og_labels.items()}"
   ]
  },
  {
   "cell_type": "code",
   "execution_count": 6,
   "metadata": {},
   "outputs": [],
   "source": [
    "cap = cv2.VideoCapture(0)"
   ]
  },
  {
   "cell_type": "code",
   "execution_count": null,
   "metadata": {},
   "outputs": [],
   "source": []
  },
  {
   "cell_type": "code",
   "execution_count": 7,
   "metadata": {},
   "outputs": [],
   "source": [
    "while True:\n",
    "    ret, frame = cap.read()\n",
    "    gray = cv2.cvtColor(frame, cv2.COLOR_BGR2GRAY)\n",
    "    faces = face_cascade.detectMultiScale(gray, scaleFactor = 1.5, minNeighbors=5)\n",
    "    #Face\n",
    "    for (x,y,w,h) in faces:\n",
    "        #print(x,y,w,h)\n",
    "        roi_gray = gray[y:y+h, x:x+w]\n",
    "        roi_color = frame[y:y+h, x:x+w]\n",
    "        \n",
    "        #recognizer run tf,keras,scikit and pytorch\n",
    "        id_, conf = recognizer.predict(roi_gray)\n",
    "        \n",
    "        if conf >= 45:# and conf <= 85:\n",
    "            print(id_)\n",
    "            print(labels[id_])\n",
    "            font = cv2.FONT_HERSHEY_SIMPLEX\n",
    "            name = labels[id_]\n",
    "            color = (255, 255, 255)\n",
    "            stroke = 2\n",
    "            cv2.putText(frame, name, (x,y), font, 1, color, stroke, cv2.LINE_AA)\n",
    "        \n",
    "        img_item1 = \"my-image1.png\"\n",
    "        img_item2 = \"my-image2.png\"\n",
    "        cv2.imwrite(img_item1,roi_gray)\n",
    "        cv2.imwrite(img_item2,roi_color)\n",
    "                    \n",
    "        color = (255, 0, 0)\n",
    "        stroke = 2\n",
    "        end_cord_x  = x + w\n",
    "        end_cord_y = y + h\n",
    "        cv2.rectangle(frame, (x,y), (end_cord_x, end_cord_y), color, stroke)\n",
    "        \n",
    "        #Eyes\n",
    "        eyes = eye_cascade.detectMultiScale(roi_gray)\n",
    "        for (ex,ey,ew,eh) in eyes:\n",
    "            cv2.rectangle(roi_color,(ex,ey),(ex+ew,ey+eh),(0,255,0),2)\n",
    "        \n",
    "        #Smile\n",
    "        smile = smile_cascade.detectMultiScale(roi_gray)\n",
    "        for (sx,sy,sw,sh) in smile:\n",
    "            cv2.rectangle(roi_color,(sx,sy),(sx+sw,sy+sh),(0,255,0),2)\n",
    "        \n",
    "    cv2.imshow('frame', frame)\n",
    "    if cv2.waitKey(20) & 0xFF == ord('q'):\n",
    "        break"
   ]
  },
  {
   "cell_type": "code",
   "execution_count": 8,
   "metadata": {},
   "outputs": [],
   "source": [
    "cap.release()\n",
    "cv2.destroyAllWindows()"
   ]
  },
  {
   "cell_type": "code",
   "execution_count": null,
   "metadata": {},
   "outputs": [],
   "source": []
  }
 ],
 "metadata": {
  "kernelspec": {
   "display_name": "Python 3",
   "language": "python",
   "name": "python3"
  },
  "language_info": {
   "codemirror_mode": {
    "name": "ipython",
    "version": 3
   },
   "file_extension": ".py",
   "mimetype": "text/x-python",
   "name": "python",
   "nbconvert_exporter": "python",
   "pygments_lexer": "ipython3",
   "version": "3.7.4"
  }
 },
 "nbformat": 4,
 "nbformat_minor": 2
}
