{
 "cells": [
  {
   "cell_type": "code",
   "execution_count": 1,
   "metadata": {},
   "outputs": [],
   "source": [
    "import os\n",
    "from PIL import Image"
   ]
  },
  {
   "cell_type": "code",
   "execution_count": 2,
   "metadata": {},
   "outputs": [],
   "source": [
    "import numpy as np\n",
    "import cv2"
   ]
  },
  {
   "cell_type": "code",
   "execution_count": 3,
   "metadata": {},
   "outputs": [],
   "source": [
    "import pickle"
   ]
  },
  {
   "cell_type": "code",
   "execution_count": 4,
   "metadata": {},
   "outputs": [],
   "source": [
    "BASE_DIR = os.path.dirname(os.path.abspath(\"__file__\"))"
   ]
  },
  {
   "cell_type": "code",
   "execution_count": 5,
   "metadata": {},
   "outputs": [],
   "source": [
    "image_dir =  os.path.join(BASE_DIR, \"Images\")"
   ]
  },
  {
   "cell_type": "code",
   "execution_count": 6,
   "metadata": {},
   "outputs": [],
   "source": [
    "face_cascade = cv2.CascadeClassifier('Cascades/data/haarcascade_frontalface_alt2.xml')\n",
    "recognizer = cv2.face.LBPHFaceRecognizer_create()"
   ]
  },
  {
   "cell_type": "code",
   "execution_count": 7,
   "metadata": {},
   "outputs": [],
   "source": [
    "current_id = 0\n",
    "y_labels = []"
   ]
  },
  {
   "cell_type": "code",
   "execution_count": 8,
   "metadata": {},
   "outputs": [],
   "source": [
    "x_train = []"
   ]
  },
  {
   "cell_type": "code",
   "execution_count": 9,
   "metadata": {},
   "outputs": [],
   "source": [
    "label_ids = {}"
   ]
  },
  {
   "cell_type": "code",
   "execution_count": 10,
   "metadata": {
    "scrolled": true
   },
   "outputs": [],
   "source": [
    "for root, dirs, files in os.walk(image_dir):\n",
    "    for file in files:\n",
    "        if file.endswith(\"png\") or file.endswith(\"jpg\"):\n",
    "            path = os.path.join(root, file)\n",
    "            label = os.path.basename(os.path.dirname(path)).replace(\" \", \"-\").lower()\n",
    "            #print(label, path)\n",
    "            \n",
    "            if not label in label_ids:\n",
    "                label_ids[label] = current_id\n",
    "                current_id += 1\n",
    "            id_ = label_ids[label]\n",
    "            #print(label_ids)\n",
    "            \n",
    "            pil_image = Image.open(path).convert(\"L\") #Grayscale\n",
    "            size =(550, 550)\n",
    "            final_image = pil_image.resize(size, Image.ANTIALIAS)\n",
    "            img_array = np.array(final_image, \"uint8\")\n",
    "            #print(img_array)\n",
    "            faces = face_cascade.detectMultiScale(img_array, scaleFactor = 1.5, minNeighbors=5)\n",
    "            \n",
    "            for (x,y,w,h) in faces:\n",
    "                roi = img_array[y:y+h, x:x+w]\n",
    "                x_train.append(roi)\n",
    "                y_labels.append(id_)"
   ]
  },
  {
   "cell_type": "code",
   "execution_count": 11,
   "metadata": {},
   "outputs": [
    {
     "name": "stdout",
     "output_type": "stream",
     "text": [
      "[array([[235, 238, 240, ..., 204, 195, 197],\n",
      "       [237, 235, 237, ..., 204, 194, 194],\n",
      "       [238, 235, 233, ..., 203, 196, 193],\n",
      "       ...,\n",
      "       [230, 234, 236, ..., 206, 204, 199],\n",
      "       [231, 234, 235, ..., 206, 205, 201],\n",
      "       [230, 233, 235, ..., 208, 201, 202]], dtype=uint8), array([[ 55,  58,  58, ...,  23,  27,  29],\n",
      "       [ 70,  64,  83, ...,  24,  17,  17],\n",
      "       [ 73,  81,  85, ...,  18,  23,  23],\n",
      "       ...,\n",
      "       [ 62,  68,  69, ..., 100,  84,  89],\n",
      "       [ 63,  67,  67, ..., 108,  97,  78],\n",
      "       [ 61,  57,  53, ..., 103, 102,  93]], dtype=uint8), array([[37, 40, 40, ..., 85, 87, 90],\n",
      "       [37, 41, 41, ..., 84, 86, 89],\n",
      "       [38, 40, 40, ..., 84, 86, 87],\n",
      "       ...,\n",
      "       [19, 19, 19, ..., 18, 20, 20],\n",
      "       [21, 20, 19, ..., 19, 20, 19],\n",
      "       [22, 21, 18, ..., 19, 19, 19]], dtype=uint8), array([[ 72,  77,  36, ...,  93,  88,  70],\n",
      "       [116,  77,  60, ...,  48,  19,  39],\n",
      "       [ 69, 104, 103, ..., 104,  70,  23],\n",
      "       ...,\n",
      "       [100, 101, 100, ..., 228, 227, 225],\n",
      "       [ 97,  98, 100, ..., 227, 226, 224],\n",
      "       [ 97,  98,  99, ..., 227, 226, 223]], dtype=uint8), array([[120, 120, 120, ..., 132, 131, 131],\n",
      "       [120, 120, 120, ..., 132, 131, 131],\n",
      "       [120, 120, 120, ..., 132, 131, 131],\n",
      "       ...,\n",
      "       [130, 130, 130, ..., 133, 133, 133],\n",
      "       [130, 130, 130, ..., 133, 133, 133],\n",
      "       [130, 130, 130, ..., 133, 133, 133]], dtype=uint8), array([[ 99, 131, 164, ...,  24,  29,  41],\n",
      "       [ 76, 148, 126, ...,  21,  22,  35],\n",
      "       [ 80, 180,  89, ...,  17,  18,  26],\n",
      "       ...,\n",
      "       [181, 114,  29, ..., 236, 238, 238],\n",
      "       [171,  96,  28, ..., 236, 237, 237],\n",
      "       [145,  70,  26, ..., 236, 237, 237]], dtype=uint8), array([[ 56,  50,  52, ..., 208, 212, 209],\n",
      "       [ 53,  39,  40, ..., 197, 213, 213],\n",
      "       [ 48,  38,  42, ..., 180, 208, 216],\n",
      "       ...,\n",
      "       [145, 142, 140, ...,  47,  46,  44],\n",
      "       [148, 144, 142, ...,  47,  46,  43],\n",
      "       [148, 144, 139, ...,  48,  46,  43]], dtype=uint8), array([[ 7, 19, 29, ..., 12,  9,  5],\n",
      "       [ 4, 16, 32, ..., 12,  9,  7],\n",
      "       [ 2, 17, 33, ..., 18, 12,  8],\n",
      "       ...,\n",
      "       [10,  9,  8, ..., 12, 12, 12],\n",
      "       [ 9,  8,  8, ..., 12, 13, 14],\n",
      "       [ 9,  7,  8, ..., 11, 12, 12]], dtype=uint8), array([[38, 34, 28, ..., 17, 32, 52],\n",
      "       [38, 33, 28, ..., 18, 22, 57],\n",
      "       [34, 26, 32, ..., 20, 25, 54],\n",
      "       ...,\n",
      "       [40, 33, 37, ..., 17, 23, 18],\n",
      "       [33, 32, 33, ..., 14, 18, 24],\n",
      "       [31, 31, 31, ..., 21, 16, 33]], dtype=uint8), array([[19, 20, 21, ..., 72, 61, 50],\n",
      "       [20, 21, 23, ..., 65, 60, 56],\n",
      "       [21, 22, 24, ..., 61, 64, 65],\n",
      "       ...,\n",
      "       [ 9, 10, 10, ..., 67, 66, 64],\n",
      "       [10, 10, 10, ..., 68, 67, 64],\n",
      "       [11, 11, 12, ..., 69, 67, 64]], dtype=uint8), array([[ 31,  30,  21, ...,  86, 121, 111],\n",
      "       [ 27,  33,  19, ...,  67, 132, 114],\n",
      "       [ 22,  23,  19, ...,  66, 115, 134],\n",
      "       ...,\n",
      "       [ 87,  83,  71, ...,  26,  30,  33],\n",
      "       [ 79,  77,  71, ...,  25,  26,  32],\n",
      "       [ 75,  73,  70, ...,  22,  23,  27]], dtype=uint8), array([[20, 28, 30, ..., 16, 13, 12],\n",
      "       [22, 28, 30, ..., 17, 14, 11],\n",
      "       [27, 29, 30, ..., 18, 14, 13],\n",
      "       ...,\n",
      "       [11, 12, 10, ..., 28, 26, 25],\n",
      "       [10, 11, 10, ..., 28, 25, 25],\n",
      "       [ 9, 10,  7, ..., 26, 24, 23]], dtype=uint8), array([[  4,   3,   3, ..., 111,  98,  89],\n",
      "       [  4,   3,   3, ..., 128, 107,  94],\n",
      "       [  4,   3,   3, ..., 141, 109,  93],\n",
      "       ...,\n",
      "       [ 17,  18,  33, ...,  61,  62,  61],\n",
      "       [ 18,  26,  42, ...,  63,  64,  60],\n",
      "       [ 24,  37,  51, ...,  65,  65,  59]], dtype=uint8), array([[254, 254, 254, ..., 254, 254, 254],\n",
      "       [254, 254, 254, ..., 254, 254, 254],\n",
      "       [254, 254, 254, ..., 254, 254, 254],\n",
      "       ...,\n",
      "       [247, 254, 255, ...,  96,  96,  98],\n",
      "       [247, 205, 155, ...,  88,  95, 101],\n",
      "       [139, 110, 102, ...,  91,  97, 103]], dtype=uint8), array([[  9,   6,   8, ..., 177, 176, 175],\n",
      "       [ 11,  10,   9, ..., 176, 177, 176],\n",
      "       [ 12,  10,  11, ..., 176, 177, 176],\n",
      "       ...,\n",
      "       [  7,   8,   6, ..., 169, 169, 169],\n",
      "       [ 11,   8,   7, ..., 169, 169, 168],\n",
      "       [ 10,   8,   7, ..., 168, 169, 169]], dtype=uint8), array([[ 77,  74,  72, ...,  47,  46,  46],\n",
      "       [ 78,  78,  78, ...,  47,  47,  48],\n",
      "       [ 77,  74,  73, ...,  47,  48,  49],\n",
      "       ...,\n",
      "       [131, 132, 132, ...,  34,  33,  33],\n",
      "       [132, 132, 132, ...,  33,  34,  34],\n",
      "       [133, 133, 133, ...,  34,  36,  36]], dtype=uint8), array([[ 57,  52,  47, ..., 217, 214, 214],\n",
      "       [ 56,  55,  53, ..., 218, 215, 214],\n",
      "       [ 52,  55,  59, ..., 218, 215, 214],\n",
      "       ...,\n",
      "       [139, 139, 137, ..., 161, 180, 182],\n",
      "       [138, 138, 137, ..., 163, 180, 182],\n",
      "       [138, 138, 138, ..., 162, 178, 179]], dtype=uint8), array([[ 34,  35,  37, ...,  35,  36,  38],\n",
      "       [ 37,  37,  36, ...,  32,  33,  36],\n",
      "       [ 39,  38,  35, ...,  31,  31,  34],\n",
      "       ...,\n",
      "       [154, 161, 166, ..., 254, 254, 254],\n",
      "       [154, 160, 166, ..., 251, 253, 253],\n",
      "       [153, 160, 166, ..., 238, 246, 250]], dtype=uint8), array([[ 48,  50,  49, ...,  53,  53,  53],\n",
      "       [ 47,  49,  49, ...,  51,  52,  54],\n",
      "       [ 49,  48,  49, ...,  53,  52,  54],\n",
      "       ...,\n",
      "       [149, 149, 148, ..., 194, 198, 201],\n",
      "       [150, 150, 149, ..., 192, 195, 198],\n",
      "       [150, 150, 150, ..., 190, 192, 196]], dtype=uint8), array([[128, 121, 117, ..., 146, 147, 144],\n",
      "       [135, 119, 115, ..., 146, 152, 152],\n",
      "       [137, 125, 119, ..., 141, 148, 146],\n",
      "       ...,\n",
      "       [ 59,  62,  61, ...,  20,  27,  28],\n",
      "       [ 60,  64,  59, ...,  21,  23,  25],\n",
      "       [ 71,  59,  57, ...,  20,  21,  23]], dtype=uint8), array([[ 96,  35,  35, ...,  42,  47,  42],\n",
      "       [ 61,  31,  28, ...,  31,  43,  43],\n",
      "       [ 49,  37,  31, ...,  32,  39,  38],\n",
      "       ...,\n",
      "       [219, 219, 221, ..., 220, 221, 223],\n",
      "       [220, 221, 223, ..., 223, 223, 223],\n",
      "       [221, 222, 223, ..., 186, 217, 223]], dtype=uint8), array([[251, 252, 252, ..., 253, 253, 251],\n",
      "       [252, 252, 251, ..., 253, 252, 252],\n",
      "       [252, 252, 251, ..., 252, 252, 251],\n",
      "       ...,\n",
      "       [162, 157, 158, ...,  86,  89,  91],\n",
      "       [100, 100,  95, ...,  80,  83,  88],\n",
      "       [ 80,  80,  81, ...,  76,  78,  83]], dtype=uint8)]\n"
     ]
    }
   ],
   "source": [
    "print(x_train)"
   ]
  },
  {
   "cell_type": "code",
   "execution_count": 12,
   "metadata": {},
   "outputs": [
    {
     "name": "stdout",
     "output_type": "stream",
     "text": [
      "[0, 0, 1, 1, 1, 1, 1, 3, 3, 3, 3, 3, 3, 3, 5, 5, 5, 5, 5, 7, 7, 7]\n"
     ]
    }
   ],
   "source": [
    "print(y_labels)"
   ]
  },
  {
   "cell_type": "code",
   "execution_count": 13,
   "metadata": {},
   "outputs": [],
   "source": [
    "with open(\"labels.pickle\", 'wb') as f:\n",
    "    pickle.dump(label_ids, f)"
   ]
  },
  {
   "cell_type": "code",
   "execution_count": 14,
   "metadata": {},
   "outputs": [],
   "source": [
    "recognizer.train(x_train, np.array(y_labels))\n",
    "recognizer.save(\"Trainer.yml\")"
   ]
  },
  {
   "cell_type": "code",
   "execution_count": null,
   "metadata": {},
   "outputs": [],
   "source": []
  }
 ],
 "metadata": {
  "kernelspec": {
   "display_name": "Python 3",
   "language": "python",
   "name": "python3"
  },
  "language_info": {
   "codemirror_mode": {
    "name": "ipython",
    "version": 3
   },
   "file_extension": ".py",
   "mimetype": "text/x-python",
   "name": "python",
   "nbconvert_exporter": "python",
   "pygments_lexer": "ipython3",
   "version": "3.7.4"
  }
 },
 "nbformat": 4,
 "nbformat_minor": 2
}
